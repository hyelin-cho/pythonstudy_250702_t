{
 "cells": [
  {
   "cell_type": "code",
   "execution_count": 1,
   "id": "d2240f0e-d4a3-4582-849d-6becf5e6b1bc",
   "metadata": {},
   "outputs": [
    {
     "name": "stdout",
     "output_type": "stream",
     "text": [
      "Requirement already satisfied: pymysql in /opt/anaconda3/lib/python3.13/site-packages (1.1.1)\n",
      "Note: you may need to restart the kernel to use updated packages.\n"
     ]
    }
   ],
   "source": [
    "pip install pymysql"
   ]
  },
  {
   "cell_type": "code",
   "execution_count": 2,
   "id": "c7f832d2-82c9-40c8-b4d9-590a4f874663",
   "metadata": {},
   "outputs": [],
   "source": [
    "import pymysql\n",
    "\n",
    "db = pymysql.connect(\n",
    "    host=\"localhost\",\n",
    "    port=3306,\n",
    "    user= \"root\",\n",
    "    passwd=\"\",\n",
    "    db=\"ecommerce\",\n",
    "    charset=\"utf8\"\n",
    ")"
   ]
  },
  {
   "cell_type": "code",
   "execution_count": 4,
   "id": "0cbc011e-fecc-49c3-b2db-15de734188a6",
   "metadata": {},
   "outputs": [],
   "source": [
    "ecommerce = db.cursor()"
   ]
  },
  {
   "cell_type": "code",
   "execution_count": 9,
   "id": "52866d48-b2f8-43e1-8646-f5ef0fbe1c7c",
   "metadata": {},
   "outputs": [],
   "source": [
    "sql = \"\"\" \n",
    "    CREATE TABLE product (\n",
    "        PRODUCT_CODE VARCHAR(20) NOT NULL PRIMARY KEY,\n",
    "        TITLE VARCHAR(200) NOT NULL,\n",
    "        ORI_PRICE INT,\n",
    "        DISCOUNT_PRICE INT,\n",
    "        DISCOUNT_PERCENT INT,\n",
    "        DELIVERY VARCHAR(10)\n",
    "    );\n",
    "\"\"\""
   ]
  },
  {
   "cell_type": "code",
   "execution_count": 7,
   "id": "6ba4d407-b372-45e7-8028-92bc06e8bdc7",
   "metadata": {},
   "outputs": [
    {
     "data": {
      "text/plain": [
       "' \\n    CREATE TABLE product (\\n        PRODUCT_CODE VARCHAR(20) NOT NULL PRIMARY KEY,\\n        TITLE VARCHAR(200) NOT NULL,\\n        ORI_PRICE INT,\\n        DISCOUNT_PRICE INT,\\n        DISCOUNT_PERCENT INT,\\n        DELIVERY VARCHAR(10),\\n    );\\n'"
      ]
     },
     "execution_count": 7,
     "metadata": {},
     "output_type": "execute_result"
    }
   ],
   "source": [
    "sql"
   ]
  },
  {
   "cell_type": "code",
   "execution_count": 10,
   "id": "d084c1e7-82b3-4bd6-8128-8847f9febc17",
   "metadata": {},
   "outputs": [
    {
     "data": {
      "text/plain": [
       "0"
      ]
     },
     "execution_count": 10,
     "metadata": {},
     "output_type": "execute_result"
    }
   ],
   "source": [
    "ecommerce.execute(sql)"
   ]
  },
  {
   "cell_type": "code",
   "execution_count": 11,
   "id": "2cb4ab46-5691-483c-8475-e924b82d82a2",
   "metadata": {},
   "outputs": [],
   "source": [
    "db.commit()"
   ]
  },
  {
   "cell_type": "code",
   "execution_count": 12,
   "id": "d23691ff-8578-4d0d-be6c-0b07bae16463",
   "metadata": {},
   "outputs": [],
   "source": [
    "db.close()"
   ]
  },
  {
   "cell_type": "code",
   "execution_count": null,
   "id": "0e4d94b2-d673-4b56-98d8-4ff383bf5209",
   "metadata": {},
   "outputs": [],
   "source": [
    "for index in range(10) :\n",
    "    product_code = 215673140 + index + 1\n",
    "    sql = f\"\"\"\n",
    "        INSERT INTO product VALUES(\n",
    "            '{product_code}',\n",
    "            '스위트바니 여름신상 5900원 ~ 롱원피스 티셔츠 / 긴팔 / 반팔',\n",
    "            23000,\n",
    "            6900,\n",
    "            70,\n",
    "            'T'\n",
    "        );\n",
    "    \"\"\""
   ]
  },
  {
   "cell_type": "code",
   "execution_count": null,
   "id": "31dd7bd7-b518-45b2-a237-64fcc2340b3d",
   "metadata": {},
   "outputs": [],
   "source": []
  },
  {
   "cell_type": "code",
   "execution_count": null,
   "id": "aacfb706-2f7f-426c-85fd-4fa63e4fbf10",
   "metadata": {},
   "outputs": [],
   "source": []
  },
  {
   "cell_type": "code",
   "execution_count": null,
   "id": "25007efd-3d70-4030-b003-2cbbdca35072",
   "metadata": {},
   "outputs": [],
   "source": []
  }
 ],
 "metadata": {
  "kernelspec": {
   "display_name": "Python [conda env:base] *",
   "language": "python",
   "name": "conda-base-py"
  },
  "language_info": {
   "codemirror_mode": {
    "name": "ipython",
    "version": 3
   },
   "file_extension": ".py",
   "mimetype": "text/x-python",
   "name": "python",
   "nbconvert_exporter": "python",
   "pygments_lexer": "ipython3",
   "version": "3.13.5"
  }
 },
 "nbformat": 4,
 "nbformat_minor": 5
}
